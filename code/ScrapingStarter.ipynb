{
 "cells": [
  {
   "cell_type": "markdown",
   "metadata": {
    "button": false,
    "deletable": true,
    "new_sheet": false,
    "run_control": {
     "read_only": false
    }
   },
   "source": [
    "## Go to [this](http://pokemondb.net/pokedex/game/diamond-pearl) website. Look at it. There's a bunch of pokemon."
   ]
  },
  {
   "cell_type": "markdown",
   "metadata": {
    "button": false,
    "deletable": true,
    "new_sheet": false,
    "run_control": {
     "read_only": false
    }
   },
   "source": [
    "### Use beautifulsoup to pull the pokemon's name, number, and fighting type out of the elements in the table"
   ]
  },
  {
   "cell_type": "code",
   "execution_count": 1,
   "metadata": {
    "button": false,
    "collapsed": false,
    "deletable": true,
    "new_sheet": false,
    "run_control": {
     "read_only": false
    }
   },
   "outputs": [],
   "source": [
    "import urllib2\n",
    "from bs4 import BeautifulSoup\n",
    "import json\n",
    "\n",
    "soup = BeautifulSoup(urllib2.urlopen('http://www.serebii.net/diamondpearl/pokemon.shtml').read(), \"lxml\")\n"
   ]
  },
  {
   "cell_type": "markdown",
   "metadata": {
    "button": false,
    "deletable": true,
    "new_sheet": false,
    "run_control": {
     "read_only": false
    }
   },
   "source": [
    "### Put the pokemon data into a dataframe and print it"
   ]
  },
  {
   "cell_type": "code",
   "execution_count": 113,
   "metadata": {
    "collapsed": false
   },
   "outputs": [
    {
     "data": {
      "text/html": [
       "<div>\n",
       "<table border=\"1\" class=\"dataframe\">\n",
       "  <thead>\n",
       "    <tr style=\"text-align: right;\">\n",
       "      <th></th>\n",
       "      <th>names</th>\n",
       "      <th>number</th>\n",
       "      <th>fighting type</th>\n",
       "    </tr>\n",
       "  </thead>\n",
       "  <tbody>\n",
       "    <tr>\n",
       "      <th>0</th>\n",
       "      <td>Turtwig</td>\n",
       "      <td>387</td>\n",
       "      <td>grass</td>\n",
       "    </tr>\n",
       "    <tr>\n",
       "      <th>1</th>\n",
       "      <td>Grotle</td>\n",
       "      <td>388</td>\n",
       "      <td>grass</td>\n",
       "    </tr>\n",
       "    <tr>\n",
       "      <th>2</th>\n",
       "      <td>Torterra</td>\n",
       "      <td>389</td>\n",
       "      <td>grass-ground</td>\n",
       "    </tr>\n",
       "    <tr>\n",
       "      <th>3</th>\n",
       "      <td>Chimchar</td>\n",
       "      <td>390</td>\n",
       "      <td>fire</td>\n",
       "    </tr>\n",
       "    <tr>\n",
       "      <th>4</th>\n",
       "      <td>Monferno</td>\n",
       "      <td>391</td>\n",
       "      <td>fire-fighting</td>\n",
       "    </tr>\n",
       "  </tbody>\n",
       "</table>\n",
       "</div>"
      ],
      "text/plain": [
       "      names number  fighting type\n",
       "0   Turtwig    387          grass\n",
       "1    Grotle    388          grass\n",
       "2  Torterra    389   grass-ground\n",
       "3  Chimchar    390           fire\n",
       "4  Monferno    391  fire-fighting"
      ]
     },
     "execution_count": 113,
     "metadata": {},
     "output_type": "execute_result"
    }
   ],
   "source": [
    "tables = soup.find_all('table', width=\"98%\")\n",
    "#print tables\n",
    "\n",
    "raw = {\n",
    "    'number':[],\n",
    "    'names': [],\n",
    "    'type1': [],\n",
    "    'type2':[]\n",
    "}\n",
    "c = 0\n",
    "for idx, table in enumerate(tables):\n",
    "    #print '<=== table ===>', idx\n",
    "    #print table\n",
    "    for idx2, row in enumerate(table.find_all('tr')):\n",
    "        if idx2 > 0:\n",
    "            #print '<=== row ===>', idx2\n",
    "            #print row\n",
    "            for idx3, col in enumerate(row.find_all('td')):\n",
    "                #print '<=== col ===>', idx3\n",
    "                #print col\n",
    "                \n",
    "                if idx3 == 0:\n",
    "                    raw['number'] += [col.text.replace('\\r','').replace('\\n','').replace('\\t','').replace('#','')]\n",
    "                if idx3 == len(row.find_all('td')) - 4:\n",
    "                    raw['names'] += [col.text.split('\\n')[1]]\n",
    "                if idx3 == len(row.find_all('td')) - 2:\n",
    "                    key = col.find('a').contents\n",
    "                    raw['type1'] += [key[0]['src'].replace('/pokedex-dp/type/',\"\").replace('.gif','')]\n",
    "                if idx3 == len(row.find_all('td')) - 1:\n",
    "                    key = col.find('a').contents\n",
    "                    raw['type2'] += [key[0]['src'].replace('/pokedex-dp/type/',\"\").replace('.gif','')]\n",
    "                    \n",
    "\n",
    "import pandas as pd\n",
    "ndf = pd.DataFrame(raw)\n",
    "\n",
    "#Get the two types into one column\n",
    "ndf['fighting type'] = ndf['type1'] + '-' + ndf['type2'] \n",
    "ndf['fighting type'] = [x.replace('-na','') for x in ndf['fighting type']]\n",
    "\n",
    "#drop type1, type2\n",
    "ndf.drop(['type1','type2'],axis=1,inplace=True)\n",
    "ndf.head()\n"
   ]
  },
  {
   "cell_type": "code",
   "execution_count": null,
   "metadata": {
    "collapsed": true
   },
   "outputs": [],
   "source": []
  }
 ],
 "metadata": {
  "anaconda-cloud": {},
  "kernelspec": {
   "display_name": "Python [default]",
   "language": "python",
   "name": "python2"
  },
  "language_info": {
   "codemirror_mode": {
    "name": "ipython",
    "version": 2
   },
   "file_extension": ".py",
   "mimetype": "text/x-python",
   "name": "python",
   "nbconvert_exporter": "python",
   "pygments_lexer": "ipython2",
   "version": "2.7.12"
  }
 },
 "nbformat": 4,
 "nbformat_minor": 0
}
